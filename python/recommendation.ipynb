{
 "cells": [
  {
   "cell_type": "code",
   "execution_count": 34,
   "metadata": {},
   "outputs": [],
   "source": [
    "import pandas as pd\n",
    "import numpy as np\n",
    "import pickle"
   ]
  },
  {
   "cell_type": "code",
   "execution_count": 35,
   "metadata": {},
   "outputs": [],
   "source": [
    "from sklearn.preprocessing import OneHotEncoder, MinMaxScaler\n",
    "from sklearn.feature_extraction.text import TfidfVectorizer\n",
    "from sklearn.neighbors import NearestNeighbors"
   ]
  },
  {
   "cell_type": "code",
   "execution_count": 36,
   "metadata": {},
   "outputs": [
    {
     "data": {
      "text/html": [
       "<div>\n",
       "<style scoped>\n",
       "    .dataframe tbody tr th:only-of-type {\n",
       "        vertical-align: middle;\n",
       "    }\n",
       "\n",
       "    .dataframe tbody tr th {\n",
       "        vertical-align: top;\n",
       "    }\n",
       "\n",
       "    .dataframe thead th {\n",
       "        text-align: right;\n",
       "    }\n",
       "</style>\n",
       "<table border=\"1\" class=\"dataframe\">\n",
       "  <thead>\n",
       "    <tr style=\"text-align: right;\">\n",
       "      <th></th>\n",
       "      <th>brand</th>\n",
       "      <th>name</th>\n",
       "      <th>price</th>\n",
       "      <th>rating</th>\n",
       "      <th>product_type</th>\n",
       "      <th>quantity_sold</th>\n",
       "      <th>recommendation</th>\n",
       "    </tr>\n",
       "  </thead>\n",
       "  <tbody>\n",
       "    <tr>\n",
       "      <th>0</th>\n",
       "      <td>rejuva minerals</td>\n",
       "      <td>Multi Purpose Powder - Blush &amp; Eye</td>\n",
       "      <td>0.0</td>\n",
       "      <td>3.1</td>\n",
       "      <td>blush</td>\n",
       "      <td>7</td>\n",
       "      <td>no</td>\n",
       "    </tr>\n",
       "    <tr>\n",
       "      <th>1</th>\n",
       "      <td>marienatie</td>\n",
       "      <td>Mineral Blush</td>\n",
       "      <td>0.0</td>\n",
       "      <td>1.3</td>\n",
       "      <td>blush</td>\n",
       "      <td>4</td>\n",
       "      <td>no</td>\n",
       "    </tr>\n",
       "    <tr>\n",
       "      <th>2</th>\n",
       "      <td>lotus cosmetics usa</td>\n",
       "      <td>Creme to Powder Blush</td>\n",
       "      <td>0.0</td>\n",
       "      <td>1.9</td>\n",
       "      <td>blush</td>\n",
       "      <td>8</td>\n",
       "      <td>no</td>\n",
       "    </tr>\n",
       "    <tr>\n",
       "      <th>3</th>\n",
       "      <td>glossier</td>\n",
       "      <td>Cloud Paint</td>\n",
       "      <td>22.0</td>\n",
       "      <td>3.2</td>\n",
       "      <td>blush</td>\n",
       "      <td>5</td>\n",
       "      <td>no</td>\n",
       "    </tr>\n",
       "    <tr>\n",
       "      <th>4</th>\n",
       "      <td>nyx</td>\n",
       "      <td>Sweet Cheeks Blush Palette</td>\n",
       "      <td>20.0</td>\n",
       "      <td>2.7</td>\n",
       "      <td>blush</td>\n",
       "      <td>7</td>\n",
       "      <td>no</td>\n",
       "    </tr>\n",
       "  </tbody>\n",
       "</table>\n",
       "</div>"
      ],
      "text/plain": [
       "                 brand                                name  price  rating  \\\n",
       "0      rejuva minerals  Multi Purpose Powder - Blush & Eye    0.0     3.1   \n",
       "1           marienatie                       Mineral Blush    0.0     1.3   \n",
       "2  lotus cosmetics usa               Creme to Powder Blush    0.0     1.9   \n",
       "3             glossier                         Cloud Paint   22.0     3.2   \n",
       "4                  nyx          Sweet Cheeks Blush Palette   20.0     2.7   \n",
       "\n",
       "  product_type  quantity_sold recommendation  \n",
       "0        blush              7             no  \n",
       "1        blush              4             no  \n",
       "2        blush              8             no  \n",
       "3        blush              5             no  \n",
       "4        blush              7             no  "
      ]
     },
     "execution_count": 36,
     "metadata": {},
     "output_type": "execute_result"
    }
   ],
   "source": [
    "training_data = pd.read_csv(\"augmented_training_data.csv\")\n",
    "training_data['price'] = training_data['price'].fillna(0)\n",
    "training_data.head()"
   ]
  },
  {
   "cell_type": "code",
   "execution_count": 43,
   "metadata": {},
   "outputs": [],
   "source": [
    "ohe = OneHotEncoder(sparse_output=False, handle_unknown='ignore')\n",
    "\n",
    "brand_encoded = ohe.fit_transform(training_data[['brand']])\n",
    "with open(\"ohe.pkl\", \"wb\") as f:\n",
    "    pickle.dump(ohe, f)\n",
    "\n",
    "bdf = pd.DataFrame(brand_encoded)\n"
   ]
  },
  {
   "cell_type": "code",
   "execution_count": 38,
   "metadata": {},
   "outputs": [],
   "source": [
    "tfidf = TfidfVectorizer(max_features=50)\n",
    "name_vectorized = tfidf.fit_transform(training_data['name'].fillna(\"\")).toarray()\n",
    "with open(\"tfidf.pkl\", \"wb\") as f:\n",
    "    pickle.dump(tfidf, f)"
   ]
  },
  {
   "cell_type": "code",
   "execution_count": 39,
   "metadata": {},
   "outputs": [],
   "source": [
    "scaler = MinMaxScaler()\n",
    "price_scaled = scaler.fit_transform(training_data[['price']])\n",
    "with open(\"scaler.pkl\", \"wb\") as f:\n",
    "    pickle.dump(scaler, f)"
   ]
  },
  {
   "cell_type": "code",
   "execution_count": 40,
   "metadata": {},
   "outputs": [],
   "source": [
    "feature_matrix = np.hstack([brand_encoded, name_vectorized, price_scaled])"
   ]
  },
  {
   "cell_type": "code",
   "execution_count": 41,
   "metadata": {},
   "outputs": [],
   "source": [
    "nn_model = NearestNeighbors(n_neighbors=6, metric='cosine')\n",
    "nn_model.fit(feature_matrix)\n",
    "with open(\"nn_model.pkl\", \"wb\") as f:\n",
    "    pickle.dump(nn_model, f)"
   ]
  },
  {
   "cell_type": "code",
   "execution_count": 42,
   "metadata": {},
   "outputs": [
    {
     "name": "stdout",
     "output_type": "stream",
     "text": [
      "You bought:\n",
      "brand                           nyx\n",
      "name     Lip Lustre Glossy Lip Tint\n",
      "Name: 641, dtype: object\n",
      "\n",
      " Recommended Products:\n",
      "- nyx — Epic Ink Lip Dye (lipstick) • $7.0\n",
      "- nyx — Lip Lingerie (lipstick) • $7.0\n",
      "- nyx — Strictly Vinyl Lip Gloss (lipstick) • $8.0\n",
      "- nyx — Duo Chromatic Lip Gloss (lipstick) • $8.0\n",
      "- nyx — V'Amped Up! Lip Top Coat (lipstick) • $6.0\n"
     ]
    }
   ],
   "source": [
    "\n",
    "query_index = 641\n",
    "query_vector = feature_matrix[query_index].reshape(1, -1)\n",
    "distances, indices = nn_model.kneighbors(query_vector)\n",
    "\n",
    "\n",
    "print(\"You bought:\")\n",
    "print(training_data.iloc[query_index][['brand', 'name']])\n",
    "\n",
    "print(\"\\n Recommended Products:\")\n",
    "\n",
    "\n",
    "seen_names = set()\n",
    "unique_recs = []\n",
    "\n",
    "query_name = training_data.iloc[query_index]['name'].strip().lower()\n",
    "\n",
    "for idx in indices[0]:\n",
    "    rec = training_data.iloc[idx]\n",
    "    name = rec['name'].strip().lower()\n",
    "    \n",
    "    if name != query_name and name not in seen_names:\n",
    "        seen_names.add(name)\n",
    "        unique_recs.append(rec)\n",
    "\n",
    "\n",
    "for rec in unique_recs[:5]:  \n",
    "    print(f\"- {rec['brand']} — {rec['name']} ({rec['product_type']}) • ${rec['price']}\")\n"
   ]
  },
  {
   "cell_type": "code",
   "execution_count": 45,
   "metadata": {},
   "outputs": [],
   "source": [
    "testdf = pd.read_csv(\"product_data.csv\")"
   ]
  },
  {
   "cell_type": "code",
   "execution_count": 50,
   "metadata": {},
   "outputs": [
    {
     "data": {
      "text/plain": [
       "Index(['Unnamed: 0', 'id', 'brand', 'name', 'price', 'price_sign', 'currency',\n",
       "       'image_link', 'product_link', 'website_link', 'description', 'rating',\n",
       "       'category', 'product_type', 'tag_list', 'created_at', 'updated_at',\n",
       "       'product_api_url', 'api_featured_image', 'product_colors'],\n",
       "      dtype='object')"
      ]
     },
     "execution_count": 50,
     "metadata": {},
     "output_type": "execute_result"
    }
   ],
   "source": [
    "testdf.columns"
   ]
  },
  {
   "cell_type": "code",
   "execution_count": null,
   "metadata": {},
   "outputs": [],
   "source": []
  }
 ],
 "metadata": {
  "kernelspec": {
   "display_name": "Python 3",
   "language": "python",
   "name": "python3"
  },
  "language_info": {
   "codemirror_mode": {
    "name": "ipython",
    "version": 3
   },
   "file_extension": ".py",
   "mimetype": "text/x-python",
   "name": "python",
   "nbconvert_exporter": "python",
   "pygments_lexer": "ipython3",
   "version": "3.12.3"
  }
 },
 "nbformat": 4,
 "nbformat_minor": 2
}
